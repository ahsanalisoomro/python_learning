{
 "cells": [
  {
   "cell_type": "markdown",
   "metadata": {},
   "source": [
    "### In this File I will covers the Whole Conversion in Python"
   ]
  },
  {
   "cell_type": "code",
   "execution_count": 1,
   "metadata": {},
   "outputs": [
    {
     "name": "stdout",
     "output_type": "stream",
     "text": [
      "x is of type: <class 'int'>\n",
      "y is of type: <class 'float'>\n",
      "20.6\n",
      "x is of type: <class 'float'>\n",
      "After converting to integer base 2 : 18\n",
      "After converting to float : 10010.0\n"
     ]
    }
   ],
   "source": [
    "x = 10\n",
    " \n",
    "print(\"x is of type:\",type(x))\n",
    " \n",
    "y = 10.6\n",
    "print(\"y is of type:\",type(y))\n",
    " \n",
    "x = x + y\n",
    " \n",
    "print(x)\n",
    "print(\"x is of type:\",type(x))\n",
    "\n",
    "\n",
    "# Python code to demonstrate Type conversion\n",
    "# using int(), float()\n",
    " \n",
    "# initializing string\n",
    "s = \"10010\"\n",
    " \n",
    "# printing string converting to int base 2\n",
    "c = int(s,2)\n",
    "print (\"After converting to integer base 2 : \", end=\"\")\n",
    "print (c)\n",
    " \n",
    "# printing string converting to float\n",
    "e = float(s)\n",
    "print (\"After converting to float : \", end=\"\")\n",
    "print (e)"
   ]
  },
  {
   "cell_type": "markdown",
   "metadata": {},
   "source": []
  }
 ],
 "metadata": {
  "kernelspec": {
   "display_name": "Python 3",
   "language": "python",
   "name": "python3"
  },
  "language_info": {
   "codemirror_mode": {
    "name": "ipython",
    "version": 3
   },
   "file_extension": ".py",
   "mimetype": "text/x-python",
   "name": "python",
   "nbconvert_exporter": "python",
   "pygments_lexer": "ipython3",
   "version": "3.10.8"
  },
  "orig_nbformat": 4
 },
 "nbformat": 4,
 "nbformat_minor": 2
}
