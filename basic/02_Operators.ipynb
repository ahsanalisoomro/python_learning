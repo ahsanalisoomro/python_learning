{
 "cells": [
  {
   "cell_type": "markdown",
   "metadata": {},
   "source": []
  },
  {
   "cell_type": "markdown",
   "metadata": {},
   "source": [
    "## In This File I will cover All (PEMDAS) Property Using Numbers"
   ]
  },
  {
   "cell_type": "code",
   "execution_count": 1,
   "metadata": {},
   "outputs": [
    {
     "name": "stdout",
     "output_type": "stream",
     "text": [
      "Addition = 11\n",
      "subtraction = 3\n",
      "multiplication = 18\n",
      "division = 0.5\n",
      "reminder = 0\n",
      "modulus = 3\n",
      "power = 729\n",
      "precedence PEMDAS (for remembraing) = 557.0\n"
     ]
    }
   ],
   "source": [
    "# addition\n",
    "print(\"Addition =\",5+6)\n",
    "\n",
    "# subtraction\n",
    "print(\"subtraction =\",6-3)\n",
    "\n",
    "# multiplication\n",
    "print(\"multiplication =\",3*6)\n",
    "\n",
    "# division\n",
    "print(\"division =\",3/6)\n",
    "\n",
    "# reminder\n",
    "print(\"reminder =\", 3//6)\n",
    "\n",
    "# modulus\n",
    "print(\"modulus =\",3%6)\n",
    "\n",
    "# power\n",
    "print(\"power =\",3**6)\n",
    "\n",
    "# precedence PEMDAS (for remembraing)\n",
    "print(\"precedence PEMDAS (for remembraing) =\",3+6+(69*8)-8/2)"
   ]
  },
  {
   "cell_type": "code",
   "execution_count": null,
   "metadata": {},
   "outputs": [],
   "source": []
  }
 ],
 "metadata": {
  "kernelspec": {
   "display_name": "Python 3",
   "language": "python",
   "name": "python3"
  },
  "language_info": {
   "codemirror_mode": {
    "name": "ipython",
    "version": 3
   },
   "file_extension": ".py",
   "mimetype": "text/x-python",
   "name": "python",
   "nbconvert_exporter": "python",
   "pygments_lexer": "ipython3",
   "version": "3.10.8"
  },
  "orig_nbformat": 4
 },
 "nbformat": 4,
 "nbformat_minor": 2
}
