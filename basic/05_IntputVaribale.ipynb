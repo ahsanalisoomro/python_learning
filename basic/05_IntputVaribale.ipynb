{
 "cells": [
  {
   "cell_type": "markdown",
   "metadata": {},
   "source": [
    "### In This File I will Creating Some Inputs To answer Them"
   ]
  },
  {
   "cell_type": "code",
   "execution_count": 2,
   "metadata": {},
   "outputs": [],
   "source": [
    "print( \"Please The About Yourself ....\")\n",
    "name = str(input(\"Enter Your Name: \"))\n",
    "height = float(input(\"Put your Height in Meters: \"))\n",
    "weight = float(input(\"Put your Weight in KG: \"))\n",
    "age = int(input(\"Put your Age: \"))\n",
    "\n",
    "print(\"This is your name:\", name)"
   ]
  },
  {
   "cell_type": "code",
   "execution_count": null,
   "metadata": {},
   "outputs": [],
   "source": []
  }
 ],
 "metadata": {
  "kernelspec": {
   "display_name": "Python 3",
   "language": "python",
   "name": "python3"
  },
  "language_info": {
   "codemirror_mode": {
    "name": "ipython",
    "version": 3
   },
   "file_extension": ".py",
   "mimetype": "text/x-python",
   "name": "python",
   "nbconvert_exporter": "python",
   "pygments_lexer": "ipython3",
   "version": "3.10.8"
  },
  "orig_nbformat": 4
 },
 "nbformat": 4,
 "nbformat_minor": 2
}
