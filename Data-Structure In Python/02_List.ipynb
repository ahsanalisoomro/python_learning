{
 "cells": [
  {
   "cell_type": "code",
   "execution_count": 2,
   "metadata": {},
   "outputs": [
    {
     "name": "stdout",
     "output_type": "stream",
     "text": [
      "['Ahsan', 'Mohsin', 'Bababr']\n",
      "['Ahsan', 'Mohsin', 'Bababr', 'Ajay Kumar']\n",
      "['Baba Ammmar', 'Ahsan', 'Mohsin', 'Bababr', 'Ajay Kumar']\n",
      "['Baba Ammmar', 'Ahsan', 'Mohsin', 'Bababr']\n",
      "\n",
      "List of numbers: \n",
      "[10, 20, 14]\n",
      "\n",
      "List Items: \n",
      "Chilla\n",
      "Data Science\n",
      "\n",
      "Multi-Dimensional List: \n",
      "[['Chilla', 'For'], ['Data Science']]\n"
     ]
    }
   ],
   "source": [
    "# creating a list \n",
    "mylist = [\"Ahsan\" , \"Mohsin\",\"Bababr\"]\n",
    "print(mylist)\n",
    "\n",
    "# search value with index\n",
    "mylist[1]\n",
    "\n",
    "\n",
    "# Add value in the list\n",
    "mylist.append(\"Ajay Kumar\")\n",
    "print(mylist)\n",
    "\n",
    "# Using Insert add Value in list\n",
    "mylist.insert(0,\"Baba Ammmar\")\n",
    "print(mylist)\n",
    "\n",
    "# Remove Value from List\n",
    "mylist.remove(\"Ajay Kumar\")\n",
    "print(mylist)\n",
    "\n",
    "# See Value with iloc\n",
    "mylist[0:2]\n",
    "\n",
    "# see Value from last element from list\n",
    "mylist[-1]\n",
    " \n",
    "# Perform Slicing Fuction With List\n",
    "name = \"ahsan\"\n",
    "name [0:3]\n",
    "\n",
    "\n",
    "# delete the number from list\n",
    "num = [0,2,3,4,5]\n",
    "del num [0]\n",
    "num\n",
    "\n",
    "# Creating a List of numbers\n",
    "List = [10, 20, 14]\n",
    "print(\"\\nList of numbers: \")\n",
    "print(List)\n",
    "\n",
    "# Creating a List of strings and accessing\n",
    "# using index\n",
    "List = [\"Chilla\", \"For\", \"Data Science\"]\n",
    "print(\"\\nList Items: \")\n",
    "print(List[0])\n",
    "print(List[2])\n",
    "\n",
    "# Creating a Multi-Dimensional List\n",
    "# (By Nesting a list inside a List)\n",
    "List = [['Chilla', 'For'], ['Data Science']]\n",
    "print(\"\\nMulti-Dimensional List: \")\n",
    "print(List)\n",
    "\n"
   ]
  },
  {
   "cell_type": "code",
   "execution_count": null,
   "metadata": {},
   "outputs": [],
   "source": []
  }
 ],
 "metadata": {
  "kernelspec": {
   "display_name": "Python 3",
   "language": "python",
   "name": "python3"
  },
  "language_info": {
   "codemirror_mode": {
    "name": "ipython",
    "version": 3
   },
   "file_extension": ".py",
   "mimetype": "text/x-python",
   "name": "python",
   "nbconvert_exporter": "python",
   "pygments_lexer": "ipython3",
   "version": "3.10.8"
  },
  "orig_nbformat": 4
 },
 "nbformat": 4,
 "nbformat_minor": 2
}
