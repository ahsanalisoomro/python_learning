{
 "cells": [
  {
   "cell_type": "code",
   "execution_count": 18,
   "metadata": {},
   "outputs": [
    {
     "name": "stdout",
     "output_type": "stream",
     "text": [
      "['Ahsan', 'Mohsin', 'Bababr']\n",
      "['Ahsan', 'Mohsin', 'Bababr', 'Ajay Kumar']\n",
      "['Baba Ammmar', 'Ahsan', 'Mohsin', 'Bababr', 'Ajay Kumar']\n",
      "['Baba Ammmar', 'Ahsan', 'Mohsin', 'Bababr']\n"
     ]
    },
    {
     "data": {
      "text/plain": [
       "[2, 3, 4, 5]"
      ]
     },
     "execution_count": 18,
     "metadata": {},
     "output_type": "execute_result"
    }
   ],
   "source": [
    "# creating a list \n",
    "mylist = [\"Ahsan\" , \"Mohsin\",\"Bababr\"]\n",
    "print(mylist)\n",
    "\n",
    "# search value with index\n",
    "mylist[1]\n",
    "\n",
    "\n",
    "# Add value in the list\n",
    "mylist.append(\"Ajay Kumar\")\n",
    "print(mylist)\n",
    "\n",
    "# Using Insert add Value in list\n",
    "mylist.insert(0,\"Baba Ammmar\")\n",
    "print(mylist)\n",
    "\n",
    "# Remove Value from List\n",
    "mylist.remove(\"Ajay Kumar\")\n",
    "print(mylist)\n",
    "\n",
    "# See Value with iloc\n",
    "mylist[0:2]\n",
    "\n",
    "# see Value from last element from list\n",
    "mylist[-1]\n",
    " \n",
    "# Perform Slicing Fuction With List\n",
    "name = \"ahsan\"\n",
    "name [0:3]\n",
    "\n",
    "\n",
    "# delete the number from list\n",
    "num = [0,2,3,4,5]\n",
    "del num [0]\n",
    "num\n",
    "\n"
   ]
  },
  {
   "cell_type": "code",
   "execution_count": null,
   "metadata": {},
   "outputs": [],
   "source": []
  }
 ],
 "metadata": {
  "kernelspec": {
   "display_name": "Python 3",
   "language": "python",
   "name": "python3"
  },
  "language_info": {
   "codemirror_mode": {
    "name": "ipython",
    "version": 3
   },
   "file_extension": ".py",
   "mimetype": "text/x-python",
   "name": "python",
   "nbconvert_exporter": "python",
   "pygments_lexer": "ipython3",
   "version": "3.10.8"
  },
  "orig_nbformat": 4
 },
 "nbformat": 4,
 "nbformat_minor": 2
}
