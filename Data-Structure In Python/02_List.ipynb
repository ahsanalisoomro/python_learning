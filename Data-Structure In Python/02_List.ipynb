{
 "cells": [
  {
   "cell_type": "code",
   "execution_count": 2,
   "metadata": {},
   "outputs": [
    {
     "name": "stdout",
     "output_type": "stream",
     "text": [
      "['Ahsan', 'Mohsin', 'Bababr']\n",
      "['Ahsan', 'Mohsin', 'Bababr', 'Ajay Kumar']\n",
      "['Baba Ammmar', 'Ahsan', 'Mohsin', 'Bababr', 'Ajay Kumar']\n",
      "['Baba Ammmar', 'Ahsan', 'Mohsin', 'Bababr']\n",
      "\n",
      "List of numbers: \n",
      "[10, 20, 14]\n",
      "\n",
      "List Items: \n",
      "Chilla\n",
      "Data Science\n",
      "\n",
      "Multi-Dimensional List: \n",
      "[['Chilla', 'For'], ['Data Science']]\n"
     ]
    }
   ],
   "source": [
    "# creating a list \n",
    "mylist = [\"Ahsan\" , \"Mohsin\",\"Bababr\"]\n",
    "print(mylist)\n",
    "\n",
    "# search value with index\n",
    "mylist[1]\n",
    "\n",
    "\n",
    "# Add value in the list\n",
    "mylist.append(\"Ajay Kumar\")\n",
    "print(mylist)\n",
    "\n",
    "# Using Insert add Value in list\n",
    "mylist.insert(0,\"Baba Ammmar\")\n",
    "print(mylist)\n",
    "\n",
    "# Remove Value from List\n",
    "mylist.remove(\"Ajay Kumar\")\n",
    "print(mylist)\n",
    "\n",
    "# See Value with iloc\n",
    "mylist[0:2]\n",
    "\n",
    "# see Value from last element from list\n",
    "mylist[-1]\n",
    " \n",
    "# Perform Slicing Fuction With List\n",
    "name = \"ahsan\"\n",
    "name [0:3]\n",
    "\n",
    "\n",
    "# delete the number from list\n",
    "num = [0,2,3,4,5]\n",
    "del num [0]\n",
    "num\n",
    "\n",
    "# Creating a List of numbers\n",
    "List = [10, 20, 14]\n",
    "print(\"\\nList of numbers: \")\n",
    "print(List)\n",
    "\n",
    "# Creating a List of strings and accessing\n",
    "# using index\n",
    "List = [\"Chilla\", \"For\", \"Data Science\"]\n",
    "print(\"\\nList Items: \")\n",
    "print(List[0])\n",
    "print(List[2])\n",
    "\n",
    "# Creating a Multi-Dimensional List\n",
    "# (By Nesting a list inside a List)\n",
    "List = [['Chilla', 'For'], ['Data Science']]\n",
    "print(\"\\nMulti-Dimensional List: \")\n",
    "print(List)\n",
    "\n"
   ]
  },
  {
   "cell_type": "code",
   "execution_count": 7,
   "metadata": {},
   "outputs": [
    {
     "name": "stdout",
     "output_type": "stream",
     "text": [
      "\n",
      "List with the use of Numbers: \n",
      "[1, 2, 4, 4, 3, 3, 3, 6, 5]\n",
      "\n",
      "List with the use of Mixed Values: \n",
      "[1, 2, 'Python', 4, 'For', 6, 'Begginer']\n",
      "\n",
      " Length of the list :\n",
      "7\n"
     ]
    }
   ],
   "source": [
    "# Creating a List with\n",
    "# the use of Numbers\n",
    "# (Having duplicate values)\n",
    "List = [1, 2, 4, 4, 3, 3, 3, 6, 5]\n",
    "print(\"\\nList with the use of Numbers: \")\n",
    "print(List)\n",
    "\n",
    "# Creating a List with\n",
    "# mixed type of values\n",
    "# (Having numbers and strings)\n",
    "List = [1, 2, 'Python', 4, 'For', 6, 'Begginer']\n",
    "print(\"\\nList with the use of Mixed Values: \")\n",
    "print(List)\n",
    "\n",
    "#  length of a List\n",
    "print(\"\\n Length of the list :\")\n",
    "print(len(List))"
   ]
  },
  {
   "cell_type": "code",
   "execution_count": 15,
   "metadata": {},
   "outputs": [
    {
     "name": "stdout",
     "output_type": "stream",
     "text": [
      "Initial blank List: \n",
      "[]\n",
      "\n",
      "List after Addition of Three elements: \n",
      "[1, 2, 4]\n",
      "\n",
      "[1],[2],[3],[4],[5],[6],[7],[8],[9],[10],[11],[12],[13],[14],\n",
      "List after Addition of elements from 1-3: \n",
      "[1, 2, 4]\n"
     ]
    }
   ],
   "source": [
    "# Python program to demonstrate\n",
    "# Addition of elements in a List\n",
    " \n",
    "# Creating a List\n",
    "List = []\n",
    "print(\"Initial blank List: \")\n",
    "print(List)\n",
    "\n",
    "# Addition of Elements in the List\n",
    "\n",
    "List.append(1)\n",
    "List.append(2)\n",
    "List.append(4)\n",
    "print(\"\\nList after Addition of Three elements: \")\n",
    "print(List)\n",
    "print()\n",
    "\n",
    "# Adding elements to the List\n",
    "# using Iterator\n",
    "for i in range(1,15):\n",
    "   print([i], end=\",\")\n",
    "print(\"\\nList after Addition of elements from 1-3: \")\n",
    "print(List)\n",
    " \n"
   ]
  },
  {
   "cell_type": "code",
   "execution_count": null,
   "metadata": {},
   "outputs": [],
   "source": []
  }
 ],
 "metadata": {
  "kernelspec": {
   "display_name": "Python 3",
   "language": "python",
   "name": "python3"
  },
  "language_info": {
   "codemirror_mode": {
    "name": "ipython",
    "version": 3
   },
   "file_extension": ".py",
   "mimetype": "text/x-python",
   "name": "python",
   "nbconvert_exporter": "python",
   "pygments_lexer": "ipython3",
   "version": "3.10.8"
  },
  "orig_nbformat": 4
 },
 "nbformat": 4,
 "nbformat_minor": 2
}
