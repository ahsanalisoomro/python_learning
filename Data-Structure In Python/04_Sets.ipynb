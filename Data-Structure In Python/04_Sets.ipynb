{
 "cells": [
  {
   "cell_type": "markdown",
   "metadata": {},
   "source": [
    "### Sets"
   ]
  },
  {
   "cell_type": "code",
   "execution_count": null,
   "metadata": {},
   "outputs": [
    {
     "name": "stdout",
     "output_type": "stream",
     "text": [
      "Initial blank Set: \n",
      "set()\n",
      "\n",
      "Set with the use of String: \n",
      "{'l', 't', 'o', 'v', 'c', 'd', 'i', 'e'}\n",
      "\n",
      "Set with the use of an Object: \n",
      "{'h', 'o', 't', 'y', 'n', 'a', 'e', 'r', 'p', 'b'}\n",
      "\n",
      "Set with the use of List: \n",
      "{'For', 'python', 'students'}\n"
     ]
    }
   ],
   "source": [
    "# Python program to demonstrate\n",
    "# Creation of Set in Python\n",
    " \n",
    "# Creating a Set\n",
    "set1 = set()\n",
    "print(\"Initial blank Set: \")\n",
    "print(set1)\n",
    "\n",
    "# Creating a Set with\n",
    "# the use of a String\n",
    "set1 = set(\"codetolive\")\n",
    "print(\"\\nSet with the use of String: \")\n",
    "print(set1)\n",
    "\n",
    "#Creating a Set with\n",
    "# the use of Constructor\n",
    "# (Using object to Store String)\n",
    "String = 'pythontobreath'\n",
    "set1 = set(String)\n",
    "print(\"\\nSet with the use of an Object: \" )\n",
    "print(set1)\n",
    "\n",
    "# Creating a Set with\n",
    "# the use of a List\n",
    "set1 = set([\"python\", \"For\", \"students\"])\n",
    "print(\"\\nSet with the use of List: \")\n",
    "print(set1)\n"
   ]
  },
  {
   "cell_type": "code",
   "execution_count": 1,
   "metadata": {},
   "outputs": [
    {
     "name": "stdout",
     "output_type": "stream",
     "text": [
      "\n",
      "Set with the use of Numbers: \n",
      "{1, 2, 3, 4, 5, 6}\n"
     ]
    }
   ],
   "source": [
    "#Creating a Set with\n",
    "# a List of Numbers\n",
    "# (Having duplicate values)\n",
    "set1 = set([1, 2, 4, 4, 3, 3, 3, 6, 5])\n",
    "print(\"\\nSet with the use of Numbers: \")\n",
    "print(set1)"
   ]
  },
  {
   "cell_type": "code",
   "execution_count": 2,
   "metadata": {},
   "outputs": [
    {
     "name": "stdout",
     "output_type": "stream",
     "text": [
      "\n",
      "Set with the use of Mixed Values\n",
      "{1, 2, 4, 6, 'Students', 'python', 'For'}\n"
     ]
    }
   ],
   "source": [
    "#Creating a Set with\n",
    "# a mixed type of values\n",
    "# (Having numbers and strings)\n",
    "set1 = set([1, 2, 'python', 4, 'For', 6, 'Students'])\n",
    "print(\"\\nSet with the use of Mixed Values\")\n",
    "print(set1)"
   ]
  },
  {
   "cell_type": "code",
   "execution_count": 4,
   "metadata": {},
   "outputs": [
    {
     "name": "stdout",
     "output_type": "stream",
     "text": [
      "Initial blank Set: \n",
      "set()\n",
      "\n",
      "Set after Addition of Three elements: \n",
      "{8, 9, (6, 7)}\n"
     ]
    }
   ],
   "source": [
    "# Python program to demonstrate\n",
    "# Addition of elements in a Set\n",
    " \n",
    "# Creating a Set\n",
    "set1 = set()\n",
    "print(\"Initial blank Set: \")\n",
    "print(set1)\n",
    "\n",
    "# Adding element and tuple to the Set\n",
    "set1.add(8)\n",
    "set1.add(9)\n",
    "set1.add((6,7))\n",
    "print(\"\\nSet after Addition of Three elements: \")\n",
    "print(set1)\n",
    "\n",
    "\n",
    "# Adding elements to the Set\n",
    "# using Iterator\n",
    "for i in range(1, 6):\n",
    "    set1.add(i)\n",
    "print(\"\\nSet after Addition of elements from 1-5: \")\n",
    "print(set1)"
   ]
  }
 ],
 "metadata": {
  "kernelspec": {
   "display_name": "Python 3",
   "language": "python",
   "name": "python3"
  },
  "language_info": {
   "codemirror_mode": {
    "name": "ipython",
    "version": 3
   },
   "file_extension": ".py",
   "mimetype": "text/x-python",
   "name": "python",
   "nbconvert_exporter": "python",
   "pygments_lexer": "ipython3",
   "version": "3.10.8"
  },
  "orig_nbformat": 4
 },
 "nbformat": 4,
 "nbformat_minor": 2
}
