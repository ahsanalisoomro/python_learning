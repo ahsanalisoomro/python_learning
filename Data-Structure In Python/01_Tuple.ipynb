{
 "cells": [
  {
   "cell_type": "code",
   "execution_count": 1,
   "metadata": {},
   "outputs": [
    {
     "name": "stdout",
     "output_type": "stream",
     "text": [
      "Initial empty Tuple: \n",
      "()\n",
      "\n",
      "Tuple with the use of String: \n",
      "('Chilla', 'For')\n",
      "\n",
      "Tuple using List: \n",
      "(1, 2, 4, 5, 6)\n",
      "\n",
      "Tuple with the use of function: \n",
      "('C', 'h', 'i', 'l', 'l', 'a')\n"
     ]
    }
   ],
   "source": [
    "# Tuples\n",
    "# Creating an empty Tuple\n",
    "Tuple1 = ()\n",
    "print(\"Initial empty Tuple: \")\n",
    "print(Tuple1)\n",
    "\n",
    "# Creating a Tuple\n",
    "# with the use of string\n",
    "Tuple1 = ('Chilla', 'For')\n",
    "print(\"\\nTuple with the use of String: \")\n",
    "print(Tuple1)\n",
    " \n",
    "# Creating a Tuple with\n",
    "# the use of list\n",
    "list1 = [1, 2, 4, 5, 6]\n",
    "print(\"\\nTuple using List: \")\n",
    "print(tuple(list1))\n",
    " \n",
    "# Creating a Tuple\n",
    "# with the use of built-in function\n",
    "Tuple1 = tuple('Chilla')\n",
    "print(\"\\nTuple with the use of function: \")\n",
    "print(Tuple1)"
   ]
  },
  {
   "cell_type": "code",
   "execution_count": 4,
   "metadata": {},
   "outputs": [
    {
     "name": "stdout",
     "output_type": "stream",
     "text": [
      "\n",
      "First element of Tuple: \n",
      "C\n",
      "\n",
      "Values after unpacking: \n",
      "Chilla\n",
      "For\n",
      "Python\n"
     ]
    }
   ],
   "source": [
    "# Accessing Tuple\n",
    "# with Indexing\n",
    "Tuple1 = tuple(\"Chilla\")\n",
    "print(\"\\nFirst element of Tuple: \")\n",
    "print(Tuple1[0])\n",
    "\n",
    "# Tuple unpacking\n",
    "Tuple1 = (\"Chilla\", \"For\", \"Python\")\n",
    " \n",
    " # This line unpack\n",
    "# values of Tuple1\n",
    "a, b, c = Tuple1\n",
    "print(\"\\nValues after unpacking: \")\n",
    "print(a)\n",
    "print(b)\n",
    "print(c)"
   ]
  },
  {
   "cell_type": "code",
   "execution_count": 3,
   "metadata": {},
   "outputs": [
    {
     "name": "stdout",
     "output_type": "stream",
     "text": [
      "Tuple 1: \n",
      "(0, 1, 2, 3)\n",
      "\n",
      "Tuple2: \n",
      "('Chilla', 'in', 'Data science')\n",
      "\n",
      "Tuples after Concatenation: \n",
      "(0, 1, 2, 3, 'Chilla', 'in', 'Data science')\n"
     ]
    }
   ],
   "source": [
    "# Concatenation of tuples\n",
    "Tuple1 = (0, 1, 2, 3)\n",
    "Tuple2 = ('Chilla', 'in', 'Data science')\n",
    " \n",
    "Tuple3 = Tuple1 + Tuple2\n",
    "\n",
    "# Printing first Tuple\n",
    "print(\"Tuple 1: \")\n",
    "print(Tuple1)\n",
    "\n",
    "# Printing Second Tuple\n",
    "print(\"\\nTuple2: \")\n",
    "print(Tuple2)\n",
    " \n",
    "# Printing Final Tuple\n",
    "print(\"\\nTuples after Concatenation: \")\n",
    "print(Tuple3)"
   ]
  },
  {
   "cell_type": "code",
   "execution_count": 12,
   "metadata": {},
   "outputs": [
    {
     "name": "stdout",
     "output_type": "stream",
     "text": [
      "Removal of First Element: \n",
      "('h', 'i', 'l', 'a', ' ', 'i', 'n', ' ', 'D', 'a', 't', 'a', ' ', 'S', 'c', 'i', 'e', 'n', 'c', 'e')\n",
      "\n",
      "Tuple after sequence of Element is reversed: \n",
      "('e', 'c', 'n', 'e', 'i', 'c', 'S', ' ', 'a', 't', 'a', 'D', ' ', 'n', 'i', ' ', 'a', 'l', 'i', 'h', 'C')\n",
      "\n",
      "Printing elements between Range 4-9: \n",
      "('a', ' ', 'i', 'n', ' ')\n",
      "('tutorials', 'point', 2022, True)\n",
      "After deleting the tuple:\n"
     ]
    },
    {
     "ename": "NameError",
     "evalue": "name 'tup' is not defined",
     "output_type": "error",
     "traceback": [
      "\u001b[0;31m---------------------------------------------------------------------------\u001b[0m",
      "\u001b[0;31mNameError\u001b[0m                                 Traceback (most recent call last)",
      "Cell \u001b[0;32mIn[12], line 28\u001b[0m\n\u001b[1;32m     26\u001b[0m \u001b[39mdel\u001b[39;00m(tup)\n\u001b[1;32m     27\u001b[0m \u001b[39mprint\u001b[39m(\u001b[39m\"\u001b[39m\u001b[39mAfter deleting the tuple:\u001b[39m\u001b[39m\"\u001b[39m)\n\u001b[0;32m---> 28\u001b[0m \u001b[39mprint\u001b[39m(tup)\n",
      "\u001b[0;31mNameError\u001b[0m: name 'tup' is not defined"
     ]
    }
   ],
   "source": [
    "# Slicing of a Tuple\n",
    " \n",
    "# Slicing of a Tuple\n",
    "# with Numbers\n",
    "Tuple1 = tuple('Chila in Data Science')\n",
    " \n",
    "# Removing First element\n",
    "print(\"Removal of First Element: \")\n",
    "print(Tuple1[1:])\n",
    "\n",
    "# Reversing the Tuple\n",
    "print(\"\\nTuple after sequence of Element is reversed: \")\n",
    "print(Tuple1[::-1])\n",
    " \n",
    "\n",
    "\n",
    " # Printing elements of a Range\n",
    "print(\"\\nPrinting elements between Range 4-9: \")\n",
    "print(Tuple1[4:9])\n",
    "\n",
    "\n",
    "# Deleting a Tuple\n",
    " \n",
    "tup=('tutorials', 'point', 2022,True)\n",
    "print(tup)\n",
    "del(tup)\n",
    "print(\"After deleting the tuple:\")\n",
    "print(tup)\n",
    "\n"
   ]
  },
  {
   "cell_type": "code",
   "execution_count": null,
   "metadata": {},
   "outputs": [],
   "source": []
  }
 ],
 "metadata": {
  "kernelspec": {
   "display_name": "Python 3",
   "language": "python",
   "name": "python3"
  },
  "language_info": {
   "codemirror_mode": {
    "name": "ipython",
    "version": 3
   },
   "file_extension": ".py",
   "mimetype": "text/x-python",
   "name": "python",
   "nbconvert_exporter": "python",
   "pygments_lexer": "ipython3",
   "version": "3.10.8"
  },
  "orig_nbformat": 4
 },
 "nbformat": 4,
 "nbformat_minor": 2
}
