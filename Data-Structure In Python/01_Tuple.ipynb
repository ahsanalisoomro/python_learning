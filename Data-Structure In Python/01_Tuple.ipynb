{
 "cells": [
  {
   "cell_type": "code",
   "execution_count": 1,
   "metadata": {},
   "outputs": [
    {
     "name": "stdout",
     "output_type": "stream",
     "text": [
      "Initial empty Tuple: \n",
      "()\n",
      "\n",
      "Tuple with the use of String: \n",
      "('AhsanAli', 'For')\n",
      "\n",
      "Tuple using List: \n",
      "(1, 2, 4, 5, 6)\n",
      "\n",
      "Tuple with the use of function: \n",
      "('C', 'h', 'i', 'l', 'l', 'a')\n"
     ]
    }
   ],
   "source": [
    "# Tuples\n",
    "# Creating an empty Tuple\n",
    "Tuple1 = ()\n",
    "print(\"Initial empty Tuple: \")\n",
    "print(Tuple1)\n",
    "\n",
    "# Creating a Tuple\n",
    "# with the use of string\n",
    "Tuple1 = ('Chilla', 'For')\n",
    "print(\"\\nTuple with the use of String: \")\n",
    "print(Tuple1)\n",
    " \n",
    "# Creating a Tuple with\n",
    "# the use of list\n",
    "list1 = [1, 2, 4, 5, 6]\n",
    "print(\"\\nTuple using List: \")\n",
    "print(tuple(list1))\n",
    " \n",
    "# Creating a Tuple\n",
    "# with the use of built-in function\n",
    "Tuple1 = tuple('Chilla')\n",
    "print(\"\\nTuple with the use of function: \")\n",
    "print(Tuple1)"
   ]
  }
 ],
 "metadata": {
  "kernelspec": {
   "display_name": "Python 3",
   "language": "python",
   "name": "python3"
  },
  "language_info": {
   "codemirror_mode": {
    "name": "ipython",
    "version": 3
   },
   "file_extension": ".py",
   "mimetype": "text/x-python",
   "name": "python",
   "nbconvert_exporter": "python",
   "pygments_lexer": "ipython3",
   "version": "3.10.8"
  },
  "orig_nbformat": 4
 },
 "nbformat": 4,
 "nbformat_minor": 2
}
