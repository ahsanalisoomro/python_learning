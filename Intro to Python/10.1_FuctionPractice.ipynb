{
 "cells": [
  {
   "cell_type": "code",
   "execution_count": 1,
   "metadata": {},
   "outputs": [
    {
     "name": "stdout",
     "output_type": "stream",
     "text": [
      "903\n"
     ]
    }
   ],
   "source": [
    "# This function calculates the number of days in a variable number of \n",
    "# years, months, and days. These variables are provided by the user and\n",
    "# are passed to the function through the function’s parameters.\n",
    "def find_total_days(years, months, days):\n",
    "# Assign a variable to hold the calculations for the number of days in\n",
    "# a year (years*365) plus the number of days in a month (months*30) plus\n",
    "# the number of days provided through the \"days\" parameter variable.\n",
    "    my_days = (years*365) + (months*30) + days\n",
    "# Use the \"return\" keyword to send the result of the \"my_days\"  \n",
    "# calculation to the function call. \n",
    "    return my_days\n",
    " \n",
    "# Function call with user provided parameter values. \n",
    "print(find_total_days(2,5,23))"
   ]
  },
  {
   "cell_type": "code",
   "execution_count": 2,
   "metadata": {},
   "outputs": [
    {
     "name": "stdout",
     "output_type": "stream",
     "text": [
      "The volume in millimeters is 59.0\n",
      "The volume in millimeters is 118.0\n"
     ]
    }
   ],
   "source": [
    "# This function converts fluid ounces to milliliters and returns the \n",
    "# result of the conversion.\n",
    "def convert_volume(fluid_ounce):\n",
    "# Calculate value of the \"ml\" variable using the parameter variable \n",
    "# \"fluid_ounce\". There are approximately 29.5 milliliters in 1 fluid\n",
    "# ounce.\n",
    "    ml = fluid_ounce * 29.5  \n",
    "# Return the result of the calculation.  \n",
    "    return ml\n",
    " \n",
    "# Call the conversion from within the print() function using 2 fluid \n",
    "# ounces. Convert the return value from a float to a string.  \n",
    "print(\"The volume in millimeters is \" + str(convert_volume(2)))\n",
    " \n",
    "# Call the function again and double the 2 fluid ounces from within\n",
    "# the print function.\n",
    "print(\"The volume in millimeters is \" + str(convert_volume(2)*2))\n",
    "# Alternative calculation:\n",
    "# print(\"The volume in millimeters is \" + str(convert_volume(4))\n"
   ]
  },
  {
   "cell_type": "code",
   "execution_count": 4,
   "metadata": {},
   "outputs": [
    {
     "name": "stdout",
     "output_type": "stream",
     "text": [
      "The distance in kilometers is 88.0\n",
      "The round-trip in kilometers is 176.0\n"
     ]
    }
   ],
   "source": [
    "# Complete the function to return the result of the conversion\n",
    "def convert_distance(miles):\n",
    "    km = miles * 1.6  # approximately 1.6 km in 1 mile\n",
    "    return km\n",
    "\n",
    "# Do not indent any of the following lines of code as they are \n",
    "# meant to be located outside of the function above\n",
    "\n",
    "my_trip_miles = 55\n",
    "\n",
    "# 2) Convert my_trip_miles to kilometers by calling the function above\n",
    "my_trip_km = convert_distance(my_trip_miles)\n",
    "\n",
    "# 3) Fill in the blank to print the result of the my_trip_km conversion\n",
    "print(\"The distance in kilometers is \" + str(my_trip_km))\n",
    "\n",
    "# 4) Calculate the round-trip in kilometers by doubling the result of\n",
    "#    my_trip_km. Fill in the blank to print the result.\n",
    "round_trip_km = my_trip_km * 2\n",
    "print(\"The round-trip in kilometers is \" + str(round_trip_km))\n"
   ]
  },
  {
   "cell_type": "code",
   "execution_count": 1,
   "metadata": {},
   "outputs": [
    {
     "name": "stdout",
     "output_type": "stream",
     "text": [
      "99 100\n"
     ]
    }
   ],
   "source": [
    "# This function compares two numbers and returns them\n",
    "# in increasing order.\n",
    "def order_numbers(number1, number2):\n",
    "    if number2 > number1:\n",
    "        return number1, number2\n",
    "    else:\n",
    "        return number2, number1\n",
    "\n",
    "# 1) Fill in the blanks so the print statement displays the result\n",
    "#    of the function call\n",
    "smaller, bigger = order_numbers(100, 99)\n",
    "print(smaller, bigger)\n"
   ]
  },
  {
   "cell_type": "code",
   "execution_count": 2,
   "metadata": {},
   "outputs": [
    {
     "name": "stdout",
     "output_type": "stream",
     "text": [
      "3723\n"
     ]
    }
   ],
   "source": [
    "def print_seconds(hours, minutes, seconds):\n",
    "    print(hours * 3600 + minutes * 60 + seconds)\n",
    "\n",
    "print_seconds(1, 2, 3)\n"
   ]
  },
  {
   "cell_type": "code",
   "execution_count": 1,
   "metadata": {},
   "outputs": [
    {
     "name": "stdout",
     "output_type": "stream",
     "text": [
      "Welcome back Taylor!\n",
      "Hello there, John\n"
     ]
    }
   ],
   "source": [
    "def greeting(name):\n",
    "  if name == \"Taylor\":\n",
    "    return \"Welcome back Taylor!\"\n",
    "  else:\n",
    "    return \"Hello there, \" + name\n",
    "\n",
    "print(greeting(\"Taylor\"))\n",
    "print(greeting(\"John\"))\n"
   ]
  },
  {
   "cell_type": "code",
   "execution_count": null,
   "metadata": {},
   "outputs": [],
   "source": [
    "def calculate_storage(filesize):\n",
    "    block_size = 4096\n",
    "    # Use floor division to calculate how many blocks are fully occupied\n",
    "    full_blocks = filesize // block_size\n",
    "\n",
    "    # Use the modulo operator to check whether there's any remainder\n",
    "    partial_block_remainder = filesize % block_size\n",
    "    # Depending on whether there's a remainder or not, return\n",
    "    # the total number of bytes required to allocate enough blocks\n",
    "    # to store your data.\n",
    "    if partial_block_remainder > 0:\n",
    "        (full_blocks + 1) * block_size\n",
    "    return filesize\n",
    "\n",
    "print(calculate_storage(1))    # Should be 4096\n",
    "print(calculate_storage(4096)) # Should be 4096\n",
    "print(calculate_storage(4097)) # Should be 8192\n",
    "print(calculate_storage(6000)) # Should be 8192"
   ]
  },
  {
   "cell_type": "code",
   "execution_count": 2,
   "metadata": {},
   "outputs": [
    {
     "name": "stdout",
     "output_type": "stream",
     "text": [
      "Provide IT Support to employees\n"
     ]
    }
   ],
   "source": [
    "def task_reminder(time_as_string):\n",
    "\n",
    "    if time_as_string == \"8:00 a.m.\":\n",
    "        task = \"Check overnight backup images\"\n",
    "    elif time_as_string == \"11:30 a.m.\":\n",
    "        task = \"Run TPS report\"\n",
    "    elif time_as_string == \"5:30 p.m.\":\n",
    "        task = \"Reboot servers\"\n",
    "   \n",
    "    else:\n",
    "        task = \"Provide IT Support to employees\"\n",
    "\n",
    "    # This line returns the value of \"task\" to the function call.\n",
    "    return task\n",
    "\n",
    "# This line calls the function and passes a parameter  \n",
    "# (\"10:00 a.m.\") to the function.\n",
    "print(task_reminder(\"10:00 a.m.\"))\n",
    "# Should print \"Provide IT Support to employees\"\n"
   ]
  },
  {
   "cell_type": "code",
   "execution_count": 3,
   "metadata": {},
   "outputs": [
    {
     "name": "stdout",
     "output_type": "stream",
     "text": [
      "0.3333333333333333\n"
     ]
    }
   ],
   "source": [
    "def get_remainder(x, y):\n",
    " \n",
    "  if x == 0 or y == 0 or x ==y:\n",
    "    remainder = 0\n",
    "  else:\n",
    "    remainder = (x % y) / y\n",
    "  return remainder\n",
    "\n",
    "\n",
    "print(get_remainder(10, 3))\n"
   ]
  },
  {
   "cell_type": "code",
   "execution_count": 4,
   "metadata": {},
   "outputs": [
    {
     "name": "stdout",
     "output_type": "stream",
     "text": [
      "Reckless Driving\n",
      "Speeding\n",
      "Speeding\n",
      "Reckless Driving\n",
      "Safe\n",
      "Speeding\n"
     ]
    }
   ],
   "source": [
    "def speeding_ticket(speed):\n",
    "    if speed > 80:\n",
    "        ticket = \"Reckless Driving\"\n",
    "    elif speed > 60:\n",
    "        ticket = \"Speeding\"\n",
    "    else:\n",
    "        ticket = \"Safe\"\n",
    "    return ticket\n",
    "\n",
    "print(speeding_ticket(87)) # Should print Reckless Driving\n",
    "print(speeding_ticket(66)) # Should print Speeding\n",
    "print(speeding_ticket(65)) # Should print Safe\n",
    "print(speeding_ticket(85)) # Should print Reckless Driving\n",
    "print(speeding_ticket(35)) # Should print Safe\n",
    "print(speeding_ticket(77)) # Should print Speeding\n"
   ]
  },
  {
   "cell_type": "code",
   "execution_count": 5,
   "metadata": {},
   "outputs": [
    {
     "name": "stdout",
     "output_type": "stream",
     "text": [
      "orange\n",
      "purple\n",
      "green\n",
      "unknown\n",
      "unknown\n",
      "unknown\n"
     ]
    }
   ],
   "source": [
    "def complementary_color(color):\n",
    "    if color == \"blue\":\n",
    "        complement = \"orange\"\n",
    "    elif color == \"yellow\":\n",
    "        complement = \"purple\"\n",
    "    elif color == \"red\":\n",
    "        complement = \"green\"\n",
    "    else:\n",
    "        complement = \"unknown\"\n",
    "    return complement\n",
    "\n",
    "print(complementary_color(\"blue\")) # Should print orange\n",
    "print(complementary_color(\"yellow\")) # Should print purple\n",
    "print(complementary_color(\"red\")) # Should print green\n",
    "print(complementary_color(\"black\")) # Should print unknown\n",
    "print(complementary_color(\"Blue\")) # Should print unknown\n",
    "print(complementary_color(\"\")) # Should print unknown\n"
   ]
  },
  {
   "cell_type": "code",
   "execution_count": 6,
   "metadata": {},
   "outputs": [
    {
     "name": "stdout",
     "output_type": "stream",
     "text": [
      "1.0\n",
      "1.25\n",
      "0\n",
      "0.0\n"
     ]
    }
   ],
   "source": [
    "def safe_division(numerator, denominator):\n",
    "    # Complete the if block to catch any \"denominator\" variables\n",
    "    # that are equal to 0.\n",
    "    if denominator == 0:\n",
    "        result = 0\n",
    "    else:\n",
    "        # Complete the division equation.\n",
    "        result = numerator / denominator\n",
    "    return result\n",
    "\n",
    "print(safe_division(5, 5)) # Should print 1.0\n",
    "print(safe_division(5, 4)) # Should print 1.25\n",
    "print(safe_division(5, 0)) # Should print 0\n",
    "print(safe_division(0, 5)) # Should print 0.0\n"
   ]
  },
  {
   "cell_type": "code",
   "execution_count": null,
   "metadata": {},
   "outputs": [],
   "source": [
    "def letter_translator(letter):\n",
    "    if letter == \"a\":\n",
    "        letter_position = 1\n",
    "    elif letter == \"b\":\n",
    "        letter_position = 2\n",
    "    elif letter == \"c\":\n",
    "        letter_position = 3\n",
    "    elif letter == \"d\":\n",
    "        letter_position = 4\n",
    "    else:\n",
    "        letter_position = \"unknown\"\n",
    "    return letter_position\n",
    "\n",
    "print(letter_translator(\"a\")) # Should print 1\n",
    "print(letter_translator(\"b\")) # Should print 2\n",
    "print(letter_translator(\"c\")) # Should print 3\n",
    "print(letter_translator(\"d\")) # Should print 4\n",
    "print(letter_translator(\"e\")) # Should print unknown\n",
    "print(letter_translator(\"A\")) # Should print unknown\n",
    "print(letter_translator(\"\"))  # Should print unknown\n"
   ]
  }
 ],
 "metadata": {
  "kernelspec": {
   "display_name": "Python 3",
   "language": "python",
   "name": "python3"
  },
  "language_info": {
   "codemirror_mode": {
    "name": "ipython",
    "version": 3
   },
   "file_extension": ".py",
   "mimetype": "text/x-python",
   "name": "python",
   "nbconvert_exporter": "python",
   "pygments_lexer": "ipython3",
   "version": "3.10.8"
  },
  "orig_nbformat": 4
 },
 "nbformat": 4,
 "nbformat_minor": 2
}
