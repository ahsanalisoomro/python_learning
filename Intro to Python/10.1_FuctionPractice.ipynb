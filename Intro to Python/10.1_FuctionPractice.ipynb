{
 "cells": [
  {
   "cell_type": "code",
   "execution_count": 1,
   "metadata": {},
   "outputs": [
    {
     "name": "stdout",
     "output_type": "stream",
     "text": [
      "903\n"
     ]
    }
   ],
   "source": [
    "# This function calculates the number of days in a variable number of \n",
    "# years, months, and days. These variables are provided by the user and\n",
    "# are passed to the function through the function’s parameters.\n",
    "def find_total_days(years, months, days):\n",
    "# Assign a variable to hold the calculations for the number of days in\n",
    "# a year (years*365) plus the number of days in a month (months*30) plus\n",
    "# the number of days provided through the \"days\" parameter variable.\n",
    "    my_days = (years*365) + (months*30) + days\n",
    "# Use the \"return\" keyword to send the result of the \"my_days\"  \n",
    "# calculation to the function call. \n",
    "    return my_days\n",
    " \n",
    "# Function call with user provided parameter values. \n",
    "print(find_total_days(2,5,23))"
   ]
  },
  {
   "cell_type": "code",
   "execution_count": 2,
   "metadata": {},
   "outputs": [
    {
     "name": "stdout",
     "output_type": "stream",
     "text": [
      "The volume in millimeters is 59.0\n",
      "The volume in millimeters is 118.0\n"
     ]
    }
   ],
   "source": [
    "# This function converts fluid ounces to milliliters and returns the \n",
    "# result of the conversion.\n",
    "def convert_volume(fluid_ounce):\n",
    "# Calculate value of the \"ml\" variable using the parameter variable \n",
    "# \"fluid_ounce\". There are approximately 29.5 milliliters in 1 fluid\n",
    "# ounce.\n",
    "    ml = fluid_ounce * 29.5  \n",
    "# Return the result of the calculation.  \n",
    "    return ml\n",
    " \n",
    "# Call the conversion from within the print() function using 2 fluid \n",
    "# ounces. Convert the return value from a float to a string.  \n",
    "print(\"The volume in millimeters is \" + str(convert_volume(2)))\n",
    " \n",
    "# Call the function again and double the 2 fluid ounces from within\n",
    "# the print function.\n",
    "print(\"The volume in millimeters is \" + str(convert_volume(2)*2))\n",
    "# Alternative calculation:\n",
    "# print(\"The volume in millimeters is \" + str(convert_volume(4))\n"
   ]
  },
  {
   "cell_type": "code",
   "execution_count": null,
   "metadata": {},
   "outputs": [],
   "source": []
  }
 ],
 "metadata": {
  "kernelspec": {
   "display_name": "Python 3",
   "language": "python",
   "name": "python3"
  },
  "language_info": {
   "codemirror_mode": {
    "name": "ipython",
    "version": 3
   },
   "file_extension": ".py",
   "mimetype": "text/x-python",
   "name": "python",
   "nbconvert_exporter": "python",
   "pygments_lexer": "ipython3",
   "version": "3.10.8"
  },
  "orig_nbformat": 4
 },
 "nbformat": 4,
 "nbformat_minor": 2
}
