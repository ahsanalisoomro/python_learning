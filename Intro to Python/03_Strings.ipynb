{
 "cells": [
  {
   "cell_type": "markdown",
   "metadata": {},
   "source": []
  },
  {
   "cell_type": "markdown",
   "metadata": {},
   "source": [
    "### In this File I will discuss about string and how to write a string"
   ]
  },
  {
   "cell_type": "code",
   "execution_count": 1,
   "metadata": {},
   "outputs": [
    {
     "name": "stdout",
     "output_type": "stream",
     "text": [
      "Hello World!\n",
      "Wellcome to Data Science Chilla\n",
      "Wellcome to Data Science Chilla\n"
     ]
    }
   ],
   "source": [
    "# we are using string using like this\n",
    "# single, double and three qoutation marks.\n",
    "print(\"Hello World!\")\n",
    "print(\"Wellcome to Data Science Chilla\")\n",
    "print('''Wellcome to Data Science Chilla''')\n"
   ]
  },
  {
   "cell_type": "markdown",
   "metadata": {},
   "source": [
    "#### How to write a comment a code \n",
    "#### It will not render on browser and it will not shows a output"
   ]
  },
  {
   "cell_type": "markdown",
   "metadata": {},
   "source": []
  },
  {
   "cell_type": "code",
   "execution_count": 4,
   "metadata": {},
   "outputs": [
    {
     "name": "stdout",
     "output_type": "stream",
     "text": [
      "The Above Line is Not Shows in output \n"
     ]
    }
   ],
   "source": [
    "# name = str(input(\"Enter Your Name: \"))\n",
    "# hash is used for commenting control + /\n",
    "print(\"The Above Line is Not Shows in output \")"
   ]
  },
  {
   "cell_type": "code",
   "execution_count": null,
   "metadata": {},
   "outputs": [],
   "source": []
  }
 ],
 "metadata": {
  "kernelspec": {
   "display_name": "Python 3",
   "language": "python",
   "name": "python3"
  },
  "language_info": {
   "codemirror_mode": {
    "name": "ipython",
    "version": 3
   },
   "file_extension": ".py",
   "mimetype": "text/x-python",
   "name": "python",
   "nbconvert_exporter": "python",
   "pygments_lexer": "ipython3",
   "version": "3.10.8"
  },
  "orig_nbformat": 4
 },
 "nbformat": 4,
 "nbformat_minor": 2
}
